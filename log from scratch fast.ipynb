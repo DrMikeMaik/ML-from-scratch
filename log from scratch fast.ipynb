{
 "cells": [
  {
   "cell_type": "code",
   "execution_count": 37,
   "metadata": {
    "collapsed": true
   },
   "outputs": [],
   "source": [
    "import numpy as np\n",
    "import pandas as pd\n",
    "import matplotlib.pyplot as plt\n",
    "from sklearn.datasets import make_classification"
   ]
  },
  {
   "cell_type": "code",
   "execution_count": 38,
   "metadata": {
    "collapsed": true
   },
   "outputs": [],
   "source": [
    "# set the dimensions\n",
    "N = 100\n",
    "D = 2\n",
    "K = 1"
   ]
  },
  {
   "cell_type": "code",
   "execution_count": 39,
   "metadata": {
    "collapsed": true
   },
   "outputs": [],
   "source": [
    "# set the initial weights\n",
    "# W = np.random.randn(D,K)\n",
    "# b = np.random.randn(K)\n",
    "W = np.zeros((D,K))\n",
    "b = np.zeros(K)"
   ]
  },
  {
   "cell_type": "code",
   "execution_count": 40,
   "metadata": {},
   "outputs": [
    {
     "name": "stdout",
     "output_type": "stream",
     "text": [
      "(2, 1)\n",
      "(1,)\n",
      "[[0.]\n",
      " [0.]]\n",
      "[0.]\n"
     ]
    }
   ],
   "source": [
    "print(W.shape)\n",
    "print(b.shape)\n",
    "print(W)\n",
    "print(b)"
   ]
  },
  {
   "cell_type": "code",
   "execution_count": 41,
   "metadata": {
    "collapsed": true
   },
   "outputs": [],
   "source": [
    "X, t = make_classification(n_samples=N, n_features=D, n_redundant=0, n_informative=1, n_clusters_per_class=1)"
   ]
  },
  {
   "cell_type": "code",
   "execution_count": 42,
   "metadata": {},
   "outputs": [
    {
     "name": "stdout",
     "output_type": "stream",
     "text": [
      "(100, 2)\n",
      "(100,)\n"
     ]
    }
   ],
   "source": [
    "print(X.shape)\n",
    "print(t.shape)"
   ]
  },
  {
   "cell_type": "code",
   "execution_count": 43,
   "metadata": {
    "collapsed": true
   },
   "outputs": [],
   "source": [
    "X1 = pd.DataFrame(X, columns=['f1', 'f2'])\n",
    "t1 = pd.DataFrame(t, columns=['target'])\n",
    "df = pd.concat([X1, t1], axis=1)"
   ]
  },
  {
   "cell_type": "markdown",
   "metadata": {},
   "source": [
    "## Graph"
   ]
  },
  {
   "cell_type": "code",
   "execution_count": 44,
   "metadata": {},
   "outputs": [
    {
     "data": {
      "image/png": "[encoded data removed]",
      "text/plain": [
       "<matplotlib.figure.Figure at 0x11181c320>"
      ]
     },
     "metadata": {},
     "output_type": "display_data"
    }
   ],
   "source": [
    "plt.scatter(df.loc[df['target']==0, 'f1'], df.loc[df['target']==0, 'f2'],\n",
    "           label = 't1')\n",
    "plt.scatter(df.loc[df['target']==1, 'f1'], df.loc[df['target']==1, 'f2'],\n",
    "            label = 't2')\n",
    "plt.legend()\n",
    "plt.show()"
   ]
  },
  {
   "cell_type": "markdown",
   "metadata": {},
   "source": [
    "## Log reg"
   ]
  },
  {
   "cell_type": "code",
   "execution_count": 45,
   "metadata": {
    "collapsed": true
   },
   "outputs": [],
   "source": [
    "def Z(X, W, b):\n",
    "#     return X.dot(W) + b\n",
    "    return np.dot(X, W) + b"
   ]
  },
  {
   "cell_type": "code",
   "execution_count": 46,
   "metadata": {},
   "outputs": [
    {
     "data": {
      "text/plain": [
       "(100, 1)"
      ]
     },
     "execution_count": 46,
     "metadata": {},
     "output_type": "execute_result"
    }
   ],
   "source": [
    "Z1 = Z(X, W, b)\n",
    "Z1.shape"
   ]
  },
  {
   "cell_type": "code",
   "execution_count": 47,
   "metadata": {
    "collapsed": true
   },
   "outputs": [],
   "source": [
    "def sig(Z):\n",
    "    return 1/(1+np.exp(-Z))"
   ]
  },
  {
   "cell_type": "code",
   "execution_count": 48,
   "metadata": {},
   "outputs": [
    {
     "data": {
      "text/plain": [
       "(100, 1)"
      ]
     },
     "execution_count": 48,
     "metadata": {},
     "output_type": "execute_result"
    }
   ],
   "source": [
    "y = sig(Z1)\n",
    "y.shape"
   ]
  },
  {
   "cell_type": "code",
   "execution_count": 49,
   "metadata": {
    "collapsed": true
   },
   "outputs": [],
   "source": [
    "def cost(t, y):\n",
    "    return -t.reshape(N,-1)*np.log(y)-(1-t.reshape(N,-1))*(1-np.log(y))"
   ]
  },
  {
   "cell_type": "code",
   "execution_count": 50,
   "metadata": {},
   "outputs": [
    {
     "data": {
      "text/plain": [
       "(100, 1)"
      ]
     },
     "execution_count": 50,
     "metadata": {},
     "output_type": "execute_result"
    }
   ],
   "source": [
    "cost1 = cost(t, y)\n",
    "cost1.shape"
   ]
  },
  {
   "cell_type": "code",
   "execution_count": 51,
   "metadata": {
    "collapsed": true
   },
   "outputs": [],
   "source": [
    "def error(cost):\n",
    "    return cost.sum()"
   ]
  },
  {
   "cell_type": "code",
   "execution_count": 52,
   "metadata": {},
   "outputs": [
    {
     "data": {
      "text/plain": [
       "-47.61370563888012"
      ]
     },
     "execution_count": 52,
     "metadata": {},
     "output_type": "execute_result"
    }
   ],
   "source": [
    "error1 = error(cost1)\n",
    "error1"
   ]
  },
  {
   "cell_type": "code",
   "execution_count": 53,
   "metadata": {},
   "outputs": [
    {
     "name": "stdout",
     "output_type": "stream",
     "text": [
      "initial error: -47.61370563888012\n",
      "error: -47.61370563888012\n",
      "accuracy: 49\n",
      "error: -137.29577651122946\n",
      "accuracy: 94\n",
      "error: -167.8656621178128\n",
      "accuracy: 94\n",
      "error: -186.44720515814248\n",
      "accuracy: 94\n",
      "error: -199.68355477175592\n",
      "accuracy: 94\n",
      "error: -209.8611133518849\n",
      "accuracy: 94\n",
      "error: -218.04989146836598\n",
      "accuracy: 94\n",
      "error: -224.840212769165\n",
      "accuracy: 93\n",
      "error: -230.5936205772634\n",
      "accuracy: 92\n",
      "error: -235.5482448529621\n",
      "accuracy: 92\n",
      "error: -239.86958118128814\n",
      "accuracy: 92\n",
      "error: -243.67749504132277\n",
      "accuracy: 92\n",
      "error: -247.0616917825795\n",
      "accuracy: 92\n",
      "error: -250.09111192192609\n",
      "accuracy: 92\n",
      "error: -252.8199128171935\n",
      "accuracy: 92\n",
      "error: -255.29142837504563\n",
      "accuracy: 92\n",
      "error: -257.5408776193257\n",
      "accuracy: 92\n",
      "error: -259.5972699970772\n",
      "accuracy: 92\n",
      "error: -261.4847784190762\n",
      "accuracy: 92\n",
      "error: -263.22374981660613\n",
      "accuracy: 92\n",
      "error: -264.8314628520341\n",
      "accuracy: 93\n",
      "error: -266.3227054877766\n",
      "accuracy: 93\n",
      "error: -267.71022177341007\n",
      "accuracy: 93\n",
      "error: -269.0050620714186\n",
      "accuracy: 93\n",
      "error: -270.2168608966049\n",
      "accuracy: 93\n",
      "error: -271.35405973989555\n",
      "accuracy: 93\n",
      "error: -272.42408755172846\n",
      "accuracy: 93\n",
      "error: -273.4335082645823\n",
      "accuracy: 93\n",
      "error: -274.3881423851148\n",
      "accuracy: 93\n",
      "error: -275.2931679880967\n",
      "accuracy: 93\n",
      "error: -276.1532052004897\n",
      "accuracy: 93\n",
      "error: -276.972387341987\n",
      "accuracy: 93\n",
      "error: -277.75442119723397\n",
      "accuracy: 93\n",
      "error: -278.50263837156444\n",
      "accuracy: 93\n",
      "error: -279.2200392818894\n",
      "accuracy: 93\n",
      "error: -279.90933102563537\n",
      "accuracy: 93\n",
      "error: -280.57296013042014\n",
      "accuracy: 94\n",
      "error: -281.21314099881516\n",
      "accuracy: 94\n",
      "error: -281.8318807137614\n",
      "accuracy: 94\n",
      "error: -282.4310007518683\n",
      "accuracy: 94\n",
      "error: -283.012156057081\n",
      "accuracy: 94\n",
      "error: -283.5768518508625\n",
      "accuracy: 94\n",
      "error: -284.1264584931944\n",
      "accuracy: 95\n",
      "error: -284.662224658283\n",
      "accuracy: 95\n",
      "error: -285.1852890475809\n",
      "accuracy: 95\n",
      "error: -285.6966908287274\n",
      "accuracy: 95\n",
      "error: -286.19737896088935\n",
      "accuracy: 95\n",
      "error: -286.68822054360646\n",
      "accuracy: 95\n",
      "error: -287.17000830672697\n",
      "accuracy: 95\n",
      "error: -287.643467342662\n",
      "accuracy: 95\n",
      "error: -288.10926116840983\n",
      "accuracy: 95\n",
      "error: -288.56799719316183\n",
      "accuracy: 95\n",
      "error: -289.02023165742844\n",
      "accuracy: 95\n",
      "error: -289.46647410121267\n",
      "accuracy: 95\n",
      "error: -289.90719141157996\n",
      "accuracy: 95\n",
      "error: -290.34281149380416\n",
      "accuracy: 95\n",
      "error: -290.7737266049843\n",
      "accuracy: 95\n",
      "error: -291.2002963844374\n",
      "accuracy: 95\n",
      "error: -291.62285061123146\n",
      "accuracy: 95\n",
      "error: -292.0416917157731\n",
      "accuracy: 95\n",
      "error: -292.45709706937555\n",
      "accuracy: 95\n",
      "error: -292.86932107312003\n",
      "accuracy: 95\n",
      "error: -293.2785970650368\n",
      "accuracy: 95\n",
      "error: -293.685139062617\n",
      "accuracy: 95\n",
      "error: -294.08914335590214\n",
      "accuracy: 95\n",
      "error: -294.49078996483996\n",
      "accuracy: 95\n",
      "error: -294.89024397320946\n",
      "accuracy: 95\n",
      "error: -295.2876567502004\n",
      "accuracy: 95\n",
      "error: -295.68316706964197\n",
      "accuracy: 95\n",
      "error: -296.0769021359123\n",
      "accuracy: 95\n",
      "error: -296.4689785246922\n",
      "accuracy: 95\n",
      "error: -296.85950304596014\n",
      "accuracy: 95\n",
      "error: -297.2485735359353\n",
      "accuracy: 95\n",
      "error: -297.6362795840498\n",
      "accuracy: 95\n",
      "error: -298.022703200488\n",
      "accuracy: 95\n",
      "error: -298.40791942931367\n",
      "accuracy: 95\n",
      "error: -298.7919969117681\n",
      "accuracy: 95\n",
      "error: -299.174998403912\n",
      "accuracy: 95\n",
      "error: -299.5569812524134\n",
      "accuracy: 95\n",
      "error: -299.93799783194976\n",
      "accuracy: 95\n",
      "error: -300.31809594740025\n",
      "accuracy: 95\n",
      "error: -300.6973192037201\n",
      "accuracy: 96\n",
      "error: -301.0757073461475\n",
      "accuracy: 96\n",
      "error: -301.45329657316597\n",
      "accuracy: 96\n",
      "error: -301.83011982443855\n",
      "accuracy: 96\n",
      "error: -302.20620704574674\n",
      "accuracy: 96\n",
      "error: -302.58158543279717\n",
      "accuracy: 96\n",
      "error: -302.9562796555945\n",
      "accuracy: 96\n",
      "error: -303.33031206495576\n",
      "accuracy: 96\n",
      "error: -303.70370288259085\n",
      "accuracy: 96\n",
      "error: -304.0764703760734\n",
      "accuracy: 96\n",
      "error: -304.44863101990853\n",
      "accuracy: 96\n",
      "error: -304.82019964380567\n",
      "accuracy: 96\n",
      "error: -305.19118956918055\n",
      "accuracy: 96\n",
      "error: -305.561612734819\n",
      "accuracy: 96\n",
      "error: -305.93147981256703\n",
      "accuracy: 96\n",
      "error: -306.3008003138363\n",
      "accuracy: 96\n",
      "error: -306.66958268765404\n",
      "accuracy: 96\n",
      "error: -307.0378344109258\n",
      "accuracy: 96\n",
      "error: -307.4055620715287\n",
      "accuracy: 96\n",
      "error: -307.7727714447984\n",
      "accuracy: 96\n",
      "error: -308.13946756393324\n",
      "accuracy: 96\n",
      "error: -308.505654784795\n",
      "accuracy: 96\n",
      "error: -308.8713368455452\n",
      "accuracy: 96\n",
      "error: -309.2365169215283\n",
      "accuracy: 96\n",
      "error: -309.6011976757686\n",
      "accuracy: 96\n",
      "error: -309.96538130543433\n",
      "accuracy: 96\n",
      "error: -310.32906958457744\n",
      "accuracy: 96\n",
      "error: -310.6922639034468\n",
      "accuracy: 96\n",
      "error: -311.0549653046422\n",
      "accuracy: 96\n",
      "error: -311.41717451635634\n",
      "accuracy: 96\n",
      "error: -311.77889198293616\n",
      "accuracy: 96\n",
      "error: -312.1401178929677\n",
      "accuracy: 96\n",
      "error: -312.5008522050863\n",
      "accuracy: 96\n",
      "error: -312.8610946716849\n",
      "accuracy: 96\n",
      "error: -313.22084486068746\n",
      "accuracy: 96\n",
      "error: -313.58010217553965\n",
      "accuracy: 96\n",
      "error: -313.93886587355377\n",
      "accuracy: 96\n",
      "error: -314.2971350827413\n",
      "accuracy: 96\n",
      "error: -314.654908817249\n",
      "accuracy: 96\n",
      "error: -315.01218599150724\n",
      "accuracy: 96\n",
      "error: -315.36896543319483\n",
      "accuracy: 96\n",
      "error: -315.72524589511096\n",
      "accuracy: 96\n",
      "error: -316.0810260660401\n",
      "accuracy: 96\n",
      "error: -316.4363045806913\n",
      "accuracy: 96\n",
      "error: -316.79108002878155\n",
      "accuracy: 96\n",
      "error: -317.14535096333344\n",
      "accuracy: 96\n",
      "error: -317.4991159082475\n",
      "accuracy: 96\n",
      "error: -317.85237336520714\n",
      "accuracy: 96\n",
      "error: -318.2051218199692\n",
      "accuracy: 96\n",
      "error: -318.557359748087\n",
      "accuracy: 96\n",
      "error: -318.90908562011396\n",
      "accuracy: 96\n",
      "error: -319.2602979063263\n",
      "accuracy: 96\n",
      "error: -319.6109950810031\n",
      "accuracy: 96\n",
      "error: -319.96117562630343\n",
      "accuracy: 96\n",
      "error: -320.310838035766\n",
      "accuracy: 96\n",
      "error: -320.6599808174654\n",
      "accuracy: 96\n",
      "error: -321.0086024968544\n",
      "accuracy: 96\n",
      "error: -321.3567016193122\n",
      "accuracy: 96\n",
      "error: -321.7042767524271\n",
      "accuracy: 96\n",
      "error: -322.0513264880339\n",
      "accuracy: 96\n",
      "error: -322.3978494440237\n",
      "accuracy: 96\n",
      "error: -322.74384426594855\n",
      "accuracy: 96\n",
      "error: -323.0893096284343\n",
      "accuracy: 96\n",
      "error: -323.43424423641926\n",
      "accuracy: 96\n",
      "error: -323.7786468262331\n",
      "accuracy: 96\n",
      "error: -324.12251616652907\n",
      "accuracy: 96\n",
      "error: -324.4658510590811\n",
      "accuracy: 96\n",
      "error: -324.8086503394574\n",
      "accuracy: 96\n",
      "error: -325.15091287758304\n",
      "accuracy: 96\n"
     ]
    }
   ],
   "source": [
    "error_list = []\n",
    "acc_list = []\n",
    "W0_list = []\n",
    "W1_list = []\n",
    "b_list = []\n",
    "lr = 0.001\n",
    "print('initial error: {}'.format(error1))\n",
    "\n",
    "for e in range(15000):\n",
    "    \n",
    "    Z1 = Z(X, W, b)\n",
    "    y = sig(Z1)\n",
    "    cost1 = cost(t, y)\n",
    "    error1 = error(cost1)\n",
    "    \n",
    "    dw = np.dot(X.T,(y - t.reshape(N,-1)))\n",
    "    db = ((y - t.reshape(N,-1)).sum())/N\n",
    "    \n",
    "    W -= lr*dw\n",
    "    b -= lr*db\n",
    "    \n",
    "    acc_list.append(((np.round(y.T))==t).sum())\n",
    "    error_list.append(error1)\n",
    "    W0_list.append(list(W[0]))\n",
    "    W1_list.append(list(W[1]))\n",
    "    b_list.append(list(b))\n",
    "    \n",
    "    if e % 100 == 0:\n",
    "        print('error: {}'.format(error1))\n",
    "        print('accuracy: {}'.format(((np.round(y.T))==t).sum()))"
   ]
  },
  {
   "cell_type": "code",
   "execution_count": 54,
   "metadata": {},
   "outputs": [
    {
     "data": {
      "image/png": "[encoded data removed]",
      "text/plain": [
       "<matplotlib.figure.Figure at 0x1117e4940>"
      ]
     },
     "metadata": {},
     "output_type": "display_data"
    }
   ],
   "source": [
    "ex1 = np.linspace(-3, 3, 100)\n",
    "ex2 = -(W[0]*ex1 + b)/W[1]\n",
    "\n",
    "plt.axes(xlim=(-3,3), ylim=(-3,3))\n",
    "plt.scatter(df.loc[df['target']==0, 'f1'], df.loc[df['target']==0, 'f2'],\n",
    "           label = 't1')\n",
    "plt.scatter(df.loc[df['target']==1, 'f1'], df.loc[df['target']==1, 'f2'],\n",
    "            label = 't2')\n",
    "plt.plot(ex1, ex2, color='r')\n",
    "plt.legend()\n",
    "plt.show()"
   ]
  },
  {
   "cell_type": "code",
   "execution_count": 55,
   "metadata": {},
   "outputs": [
    {
     "data": {
      "image/png": "[encoded data removed]",
      "text/plain": [
       "<matplotlib.figure.Figure at 0x11181fa20>"
      ]
     },
     "metadata": {},
     "output_type": "display_data"
    }
   ],
   "source": [
    "plt.plot(error_list)\n",
    "plt.show()"
   ]
  },
  {
   "cell_type": "code",
   "execution_count": 56,
   "metadata": {},
   "outputs": [
    {
     "data": {
      "image/png": "[encoded data removed]",
      "text/plain": [
       "<matplotlib.figure.Figure at 0x110566080>"
      ]
     },
     "metadata": {},
     "output_type": "display_data"
    }
   ],
   "source": [
    "plt.plot(acc_list)\n",
    "plt.show()"
   ]
  },
  {
   "cell_type": "code",
   "execution_count": 57,
   "metadata": {},
   "outputs": [
    {
     "data": {
      "image/png": "[encoded data removed]",
      "text/plain": [
       "<matplotlib.figure.Figure at 0x111199cf8>"
      ]
     },
     "metadata": {},
     "output_type": "display_data"
    }
   ],
   "source": [
    "plt.plot(W0_list)\n",
    "plt.show()"
   ]
  },
  {
   "cell_type": "code",
   "execution_count": 58,
   "metadata": {},
   "outputs": [
    {
     "data": {
      "image/png": "[encoded data removed]",
      "text/plain": [
       "<matplotlib.figure.Figure at 0x110ee8b00>"
      ]
     },
     "metadata": {},
     "output_type": "display_data"
    }
   ],
   "source": [
    "plt.plot(W1_list)\n",
    "plt.show()"
   ]
  },
  {
   "cell_type": "code",
   "execution_count": 59,
   "metadata": {},
   "outputs": [
    {
     "data": {
      "image/png": "[encoded data removed]",
      "text/plain": [
       "<matplotlib.figure.Figure at 0x110d535c0>"
      ]
     },
     "metadata": {},
     "output_type": "display_data"
    }
   ],
   "source": [
    "plt.plot(b_list)\n",
    "plt.show()"
   ]
  },
  {
   "cell_type": "code",
   "execution_count": null,
   "metadata": {
    "collapsed": true
   },
   "outputs": [],
   "source": []
  }
 ],
 "metadata": {
  "kernelspec": {
   "display_name": "Python 3",
   "language": "python",
   "name": "python3"
  },
  "language_info": {
   "codemirror_mode": {
    "name": "ipython",
    "version": 3
   },
   "file_extension": ".py",
   "mimetype": "text/x-python",
   "name": "python",
   "nbconvert_exporter": "python",
   "pygments_lexer": "ipython3",
   "version": "3.6.1"
  }
 },
 "nbformat": 4,
 "nbformat_minor": 2
}
