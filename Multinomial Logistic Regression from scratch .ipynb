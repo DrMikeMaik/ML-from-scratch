{
 "cells": [
  {
   "cell_type": "code",
   "execution_count": 1,
   "metadata": {
    "collapsed": true
   },
   "outputs": [],
   "source": [
    "import numpy as np\n",
    "import pandas as pd\n",
    "import matplotlib.pyplot as plt\n",
    "from sklearn.datasets import make_classification\n",
    "from sklearn.datasets import make_blobs"
   ]
  },
  {
   "cell_type": "code",
   "execution_count": 2,
   "metadata": {
    "collapsed": true
   },
   "outputs": [],
   "source": [
    "# set the dimensions\n",
    "N = 100\n",
    "D = 2\n",
    "K = 3"
   ]
  },
  {
   "cell_type": "code",
   "execution_count": 3,
   "metadata": {
    "collapsed": true
   },
   "outputs": [],
   "source": [
    "# set the initial weights\n",
    "W = np.random.randn(D,K)\n",
    "b = np.zeros(K)"
   ]
  },
  {
   "cell_type": "code",
   "execution_count": 4,
   "metadata": {},
   "outputs": [
    {
     "name": "stdout",
     "output_type": "stream",
     "text": [
      "(2, 3)\n",
      "(3,)\n"
     ]
    }
   ],
   "source": [
    "print(W.shape)\n",
    "print(b.shape)"
   ]
  },
  {
   "cell_type": "code",
   "execution_count": 5,
   "metadata": {},
   "outputs": [
    {
     "name": "stdout",
     "output_type": "stream",
     "text": [
      "[[ 1.30300696  0.67358626 -1.28849036]\n",
      " [-0.43770045  0.13552017  0.0382872 ]]\n",
      "\n",
      "[ 0.15947824  0.38399315 -1.74344171]\n"
     ]
    }
   ],
   "source": [
    "print(W)\n",
    "print()\n",
    "print(b)"
   ]
  },
  {
   "cell_type": "code",
   "execution_count": 6,
   "metadata": {
    "collapsed": true
   },
   "outputs": [],
   "source": [
    "X, t = make_blobs(n_features=2, centers=3)"
   ]
  },
  {
   "cell_type": "code",
   "execution_count": 7,
   "metadata": {},
   "outputs": [
    {
     "name": "stdout",
     "output_type": "stream",
     "text": [
      "(100, 2)\n",
      "(100,)\n"
     ]
    }
   ],
   "source": [
    "print(X.shape)\n",
    "print(t.shape)"
   ]
  },
  {
   "cell_type": "code",
   "execution_count": 8,
   "metadata": {
    "collapsed": true
   },
   "outputs": [],
   "source": [
    "X1 = pd.DataFrame(X, columns=['f1', 'f2'])\n",
    "t1 = pd.DataFrame(t, columns=['target'])\n",
    "df = pd.concat([X1, t1], axis=1)"
   ]
  },
  {
   "cell_type": "markdown",
   "metadata": {},
   "source": [
    "## Graph"
   ]
  },
  {
   "cell_type": "code",
   "execution_count": 9,
   "metadata": {},
   "outputs": [
    {
     "data": {
      "image/png": "[encoded data removed]",
      "text/plain": [
       "<matplotlib.figure.Figure at 0x112e196a0>"
      ]
     },
     "metadata": {},
     "output_type": "display_data"
    }
   ],
   "source": [
    "plt.scatter(df.loc[df['target']==0, 'f1'], df.loc[df['target']==0, 'f2'],\n",
    "           label = 't1')\n",
    "plt.scatter(df.loc[df['target']==1, 'f1'], df.loc[df['target']==1, 'f2'],\n",
    "            label = 't2')\n",
    "plt.scatter(df.loc[df['target']==2, 'f1'], df.loc[df['target']==2, 'f2'],\n",
    "            label = 't3')\n",
    "plt.legend()\n",
    "plt.show()"
   ]
  },
  {
   "cell_type": "markdown",
   "metadata": {},
   "source": [
    "## Log reg"
   ]
  },
  {
   "cell_type": "code",
   "execution_count": 10,
   "metadata": {
    "collapsed": true
   },
   "outputs": [],
   "source": [
    "def Z(X, W, b):\n",
    "#     return X.dot(W) + b\n",
    "    return np.dot(X, W) + b"
   ]
  },
  {
   "cell_type": "code",
   "execution_count": 11,
   "metadata": {},
   "outputs": [
    {
     "data": {
      "text/plain": [
       "(100, 3)"
      ]
     },
     "execution_count": 11,
     "metadata": {},
     "output_type": "execute_result"
    }
   ],
   "source": [
    "Z1 = Z(X, W, b)\n",
    "Z1.shape"
   ]
  },
  {
   "cell_type": "code",
   "execution_count": 12,
   "metadata": {
    "collapsed": true
   },
   "outputs": [],
   "source": [
    "def predict(Z_single):\n",
    "    exp_Z = np.exp(Z_single)\n",
    "    return np.argmax(exp_Z/(np.exp(Z_single).sum()))"
   ]
  },
  {
   "cell_type": "code",
   "execution_count": 13,
   "metadata": {
    "collapsed": true
   },
   "outputs": [],
   "source": [
    "def soft(Z):\n",
    "    exp_Z = np.exp(Z)\n",
    "    return exp_Z/(np.exp(Z).sum(axis=1).reshape((N,-1)))"
   ]
  },
  {
   "cell_type": "code",
   "execution_count": 14,
   "metadata": {},
   "outputs": [
    {
     "data": {
      "text/plain": [
       "(100, 3)"
      ]
     },
     "execution_count": 14,
     "metadata": {},
     "output_type": "execute_result"
    }
   ],
   "source": [
    "y = soft(Z1)\n",
    "y.shape"
   ]
  },
  {
   "cell_type": "code",
   "execution_count": 15,
   "metadata": {
    "collapsed": true
   },
   "outputs": [],
   "source": [
    "def ohe(t):\n",
    "    result = np.zeros((N,K))\n",
    "    for i in range(len(t)):\n",
    "        result[i, t[i]] = 1\n",
    "    return result"
   ]
  },
  {
   "cell_type": "code",
   "execution_count": 16,
   "metadata": {
    "collapsed": true
   },
   "outputs": [],
   "source": [
    "def cost(t, y):\n",
    "    return -t*np.log(y)"
   ]
  },
  {
   "cell_type": "code",
   "execution_count": 17,
   "metadata": {},
   "outputs": [
    {
     "data": {
      "text/plain": [
       "(100, 3)"
      ]
     },
     "execution_count": 17,
     "metadata": {},
     "output_type": "execute_result"
    }
   ],
   "source": [
    "cost1 = cost(ohe(t), y)\n",
    "cost1.shape"
   ]
  },
  {
   "cell_type": "code",
   "execution_count": 18,
   "metadata": {
    "collapsed": true
   },
   "outputs": [],
   "source": [
    "def error(cost):\n",
    "    return (cost.sum())/N"
   ]
  },
  {
   "cell_type": "code",
   "execution_count": 19,
   "metadata": {},
   "outputs": [
    {
     "data": {
      "text/plain": [
       "0.77717031546423687"
      ]
     },
     "execution_count": 19,
     "metadata": {},
     "output_type": "execute_result"
    }
   ],
   "source": [
    "error1 = error(cost1)\n",
    "error1"
   ]
  },
  {
   "cell_type": "code",
   "execution_count": 30,
   "metadata": {},
   "outputs": [
    {
     "data": {
      "text/plain": [
       "(2, 100)"
      ]
     },
     "execution_count": 30,
     "metadata": {},
     "output_type": "execute_result"
    }
   ],
   "source": [
    "(X.T).shape"
   ]
  },
  {
   "cell_type": "code",
   "execution_count": 31,
   "metadata": {},
   "outputs": [
    {
     "data": {
      "text/plain": [
       "(100, 3)"
      ]
     },
     "execution_count": 31,
     "metadata": {},
     "output_type": "execute_result"
    }
   ],
   "source": [
    "(y - ohe(t)).shape"
   ]
  },
  {
   "cell_type": "code",
   "execution_count": 32,
   "metadata": {},
   "outputs": [
    {
     "data": {
      "text/plain": [
       "(2, 3)"
      ]
     },
     "execution_count": 32,
     "metadata": {},
     "output_type": "execute_result"
    }
   ],
   "source": [
    "dw.shape"
   ]
  },
  {
   "cell_type": "code",
   "execution_count": 20,
   "metadata": {},
   "outputs": [
    {
     "name": "stdout",
     "output_type": "stream",
     "text": [
      "initial error: 0.7771703154642369\n",
      "error:0.7771703154642369\n",
      "error:0.07835081839095223\n",
      "error:0.06914737104518072\n",
      "error:0.06626235140474115\n",
      "error:0.06492898143944979\n",
      "error:0.06409845364136679\n",
      "error:0.06348152636312779\n",
      "error:0.06298198678859679\n",
      "error:0.06255596883779911\n",
      "error:0.06217956464934552\n",
      "error:0.06183851504708294\n",
      "error:0.06152379400606911\n",
      "error:0.061229412543875775\n",
      "error:0.060951233842984696\n",
      "error:0.060686297317653876\n",
      "error:0.06043241580501953\n",
      "error:0.06018792664998334\n",
      "error:0.059951533036390094\n",
      "error:0.05972220006084346\n",
      "error:0.05949908499414123\n",
      "error:0.0592814894416358\n",
      "error:0.05906882584704937\n",
      "error:0.05886059357864932\n",
      "error:0.05865636153171243\n",
      "error:0.058455755234485283\n",
      "error:0.05825844711362362\n",
      "error:0.058064149007997085\n",
      "error:0.057872606304853316\n",
      "error:0.057683593263009134\n",
      "error:0.05749690921700999\n",
      "error:0.05731237544490125\n",
      "error:0.05712983254376202\n",
      "error:0.056949138200192866\n",
      "error:0.05677016527330581\n",
      "error:0.056592800129323335\n",
      "error:0.05641694118229518\n",
      "error:0.05624249760650751\n",
      "error:0.05606938819415115\n",
      "error:0.055897540337619456\n",
      "error:0.055726889120050596\n",
      "error:0.05555737650085271\n",
      "error:0.05538895058527489\n",
      "error:0.05522156496883524\n",
      "error:0.05505517814875325\n",
      "error:0.05488975299557131\n",
      "error:0.05472525627897496\n",
      "error:0.054561658242489576\n",
      "error:0.05439893222228611\n",
      "error:0.05423705430580005\n",
      "error:0.05407600302627549\n",
      "error:0.053915759089706895\n",
      "error:0.053756305130971634\n",
      "error:0.05359762549623889\n",
      "error:0.05343970604900385\n",
      "error:0.05328253399733915\n",
      "error:0.05312609774017884\n",
      "error:0.05297038673065286\n",
      "error:0.05281539135468038\n",
      "error:0.05266110282320076\n",
      "error:0.052507513076581275\n",
      "error:0.05235461469988421\n",
      "error:0.052202400847809416\n",
      "error:0.05205086517824875\n",
      "error:0.05190000179349872\n",
      "error:0.05174980518827765\n",
      "error:0.05160027020378331\n",
      "error:0.05145139198710958\n",
      "error:0.051303165955413184\n",
      "error:0.05115558776428873\n",
      "error:0.05100865327986952\n",
      "error:0.05086235855422439\n",
      "error:0.05071669980367016\n",
      "error:0.050571673389660336\n",
      "error:0.050427275801950396\n",
      "error:0.05028350364377318\n",
      "error:0.050140353618788616\n",
      "error:0.04999782251959951\n",
      "error:0.0498559072176479\n",
      "error:0.04971460465432956\n",
      "error:0.04957391183318182\n",
      "error:0.04943382581301743\n",
      "error:0.0492943437018916\n",
      "error:0.04915546265180343\n",
      "error:0.04901717985404343\n",
      "error:0.04887949253510998\n",
      "error:0.048742397953126966\n",
      "error:0.0486058933947018\n",
      "error:0.0484699761721711\n",
      "error:0.048334643621187896\n",
      "error:0.04819989309860809\n",
      "error:0.04806572198064135\n",
      "error:0.04793212766123311\n",
      "error:0.04779910755065106\n",
      "error:0.04766665907425012\n",
      "error:0.047534779671395\n",
      "error:0.04740346679452116\n",
      "error:0.04727271790831664\n",
      "error:0.04714253048901087\n",
      "error:0.04701290202375681\n",
      "error:0.04688383001009532\n"
     ]
    }
   ],
   "source": [
    "lr = 0.001\n",
    "print('initial error: {}'.format(error1))\n",
    "\n",
    "for e in range(10000):\n",
    "    \n",
    "    Z1 = Z(X, W, b)\n",
    "    y = soft(Z1)\n",
    "    cost1 = cost(ohe(t), y)\n",
    "    error1 = error(cost1)\n",
    "    \n",
    "    dw = np.dot(X.T,(y - ohe(t)))\n",
    "    db = ((y - ohe(t)).sum(axis=0))/N\n",
    "    \n",
    "    W -= lr*dw\n",
    "    b -= lr*db\n",
    "    \n",
    "    if e % 100 == 0:\n",
    "        print('error:{}'.format(error1))"
   ]
  },
  {
   "cell_type": "code",
   "execution_count": 21,
   "metadata": {},
   "outputs": [
    {
     "data": {
      "image/png": "[encoded data removed]",
      "text/plain": [
       "<matplotlib.figure.Figure at 0x11607fc50>"
      ]
     },
     "metadata": {},
     "output_type": "display_data"
    }
   ],
   "source": [
    "ex = np.linspace(-30, 30, 100)\n",
    "ey1 = -(W[0,0]*ex + b[0])/W[1,0]\n",
    "ey2 = -(W[0,1]*ex + b[1])/W[1,1]\n",
    "ey3 = -(W[0,2]*ex + b[2])/W[1,2]\n",
    "\n",
    "plt.axes(xlim=(-20,20), ylim=(-20,20))\n",
    "plt.scatter(df.loc[df['target']==0, 'f1'], df.loc[df['target']==0, 'f2'],\n",
    "           label = 't0')\n",
    "plt.scatter(df.loc[df['target']==1, 'f1'], df.loc[df['target']==1, 'f2'],\n",
    "            label = 't1')\n",
    "plt.scatter(df.loc[df['target']==2, 'f1'], df.loc[df['target']==2, 'f2'],\n",
    "            label = 't2')\n",
    "\n",
    "plt.plot(ex, ey1, color='r')\n",
    "plt.plot(ex, ey2, color='r')\n",
    "plt.plot(ex, ey3, color='r')\n",
    "\n",
    "plt.legend()\n",
    "plt.show()"
   ]
  },
  {
   "cell_type": "code",
   "execution_count": 22,
   "metadata": {},
   "outputs": [
    {
     "data": {
      "text/plain": [
       "array([[  4.53644806e-09,   7.85011939e-06,   9.99992145e-01],\n",
       "       [  9.99965035e-01,   3.49639384e-05,   1.55996807e-09],\n",
       "       [  6.56698446e-03,   9.93154107e-01,   2.78908615e-04],\n",
       "       [  5.38947826e-09,   6.06850925e-04,   9.99393144e-01],\n",
       "       [  3.76199431e-11,   2.73408503e-05,   9.99972659e-01]])"
      ]
     },
     "execution_count": 22,
     "metadata": {},
     "output_type": "execute_result"
    }
   ],
   "source": [
    "y[:5]"
   ]
  },
  {
   "cell_type": "code",
   "execution_count": 23,
   "metadata": {},
   "outputs": [
    {
     "data": {
      "text/plain": [
       "array([[ 0.,  0.,  1.],\n",
       "       [ 1.,  0.,  0.],\n",
       "       [ 0.,  1.,  0.],\n",
       "       [ 0.,  0.,  1.],\n",
       "       [ 0.,  0.,  1.]])"
      ]
     },
     "execution_count": 23,
     "metadata": {},
     "output_type": "execute_result"
    }
   ],
   "source": [
    "ohe(t)[:5]"
   ]
  },
  {
   "cell_type": "code",
   "execution_count": 24,
   "metadata": {
    "collapsed": true
   },
   "outputs": [],
   "source": [
    "test = Z([-10,5],W,b)"
   ]
  },
  {
   "cell_type": "code",
   "execution_count": 25,
   "metadata": {},
   "outputs": [
    {
     "data": {
      "text/plain": [
       "0"
      ]
     },
     "execution_count": 25,
     "metadata": {},
     "output_type": "execute_result"
    }
   ],
   "source": [
    "predict(test)"
   ]
  },
  {
   "cell_type": "code",
   "execution_count": 26,
   "metadata": {},
   "outputs": [
    {
     "data": {
      "text/plain": [
       "array([2, 0, 1, 2, 2, 0, 0, 0, 0, 1, 1, 1, 2, 0, 2, 0, 2, 1, 2, 2, 0, 1, 1,\n",
       "       0, 1, 0, 2, 0, 0, 2, 2, 1, 1, 0, 2, 2, 0, 0, 2, 2, 2, 0, 0, 2, 2, 2,\n",
       "       0, 2, 2, 1, 1, 0, 1, 2, 1, 1, 0, 0, 1, 0, 0, 2, 1, 1, 1, 2, 0, 0, 0,\n",
       "       1, 2, 1, 1, 0, 2, 2, 2, 0, 0, 2, 2, 1, 1, 1, 1, 1, 1, 2, 0, 2, 0, 0,\n",
       "       0, 0, 0, 1, 1, 0, 2, 0])"
      ]
     },
     "execution_count": 26,
     "metadata": {},
     "output_type": "execute_result"
    }
   ],
   "source": [
    "np.argmax(y, axis=1)"
   ]
  },
  {
   "cell_type": "code",
   "execution_count": 27,
   "metadata": {},
   "outputs": [
    {
     "data": {
      "text/plain": [
       "array([2, 0, 1, 2, 2, 0, 0, 0, 0, 1, 1, 1, 2, 0, 2, 0, 2, 1, 2, 2, 0, 1, 1,\n",
       "       0, 1, 0, 2, 0, 0, 2, 2, 1, 1, 0, 2, 2, 0, 0, 2, 2, 2, 0, 0, 2, 2, 2,\n",
       "       0, 2, 2, 1, 1, 0, 1, 2, 1, 1, 0, 0, 1, 0, 0, 2, 1, 1, 1, 2, 0, 0, 0,\n",
       "       1, 2, 1, 1, 0, 2, 2, 2, 0, 0, 2, 2, 1, 1, 1, 1, 1, 1, 2, 0, 2, 0, 0,\n",
       "       1, 1, 0, 1, 1, 1, 2, 0])"
      ]
     },
     "execution_count": 27,
     "metadata": {},
     "output_type": "execute_result"
    }
   ],
   "source": [
    "np.argmax(ohe(t), axis=1)"
   ]
  },
  {
   "cell_type": "code",
   "execution_count": 28,
   "metadata": {},
   "outputs": [
    {
     "data": {
      "text/plain": [
       "97"
      ]
     },
     "execution_count": 28,
     "metadata": {},
     "output_type": "execute_result"
    }
   ],
   "source": [
    "(np.argmax(y, axis=1)==np.argmax(ohe(t), axis=1)).sum()"
   ]
  },
  {
   "cell_type": "code",
   "execution_count": 29,
   "metadata": {},
   "outputs": [
    {
     "data": {
      "text/plain": [
       "array([ 0,  0,  0,  0,  0,  0,  0,  0,  0,  0,  0,  0,  0,  0,  0,  0,  0,\n",
       "        0,  0,  0,  0,  0,  0,  0,  0,  0,  0,  0,  0,  0,  0,  0,  0,  0,\n",
       "        0,  0,  0,  0,  0,  0,  0,  0,  0,  0,  0,  0,  0,  0,  0,  0,  0,\n",
       "        0,  0,  0,  0,  0,  0,  0,  0,  0,  0,  0,  0,  0,  0,  0,  0,  0,\n",
       "        0,  0,  0,  0,  0,  0,  0,  0,  0,  0,  0,  0,  0,  0,  0,  0,  0,\n",
       "        0,  0,  0,  0,  0,  0,  0, -1, -1,  0,  0,  0, -1,  0,  0])"
      ]
     },
     "execution_count": 29,
     "metadata": {},
     "output_type": "execute_result"
    }
   ],
   "source": [
    "np.argmax(y, axis=1)-np.argmax(ohe(t), axis=1)"
   ]
  },
  {
   "cell_type": "code",
   "execution_count": null,
   "metadata": {
    "collapsed": true
   },
   "outputs": [],
   "source": []
  }
 ],
 "metadata": {
  "kernelspec": {
   "display_name": "Python 3",
   "language": "python",
   "name": "python3"
  },
  "language_info": {
   "codemirror_mode": {
    "name": "ipython",
    "version": 3
   },
   "file_extension": ".py",
   "mimetype": "text/x-python",
   "name": "python",
   "nbconvert_exporter": "python",
   "pygments_lexer": "ipython3",
   "version": "3.6.1"
  }
 },
 "nbformat": 4,
 "nbformat_minor": 2
}
